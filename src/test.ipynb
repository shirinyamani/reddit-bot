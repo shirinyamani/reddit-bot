{
 "cells": [
  {
   "cell_type": "code",
   "execution_count": 55,
   "metadata": {},
   "outputs": [],
   "source": [
    "import praw\n",
    "import os\n",
    "from utils import call_llama\n",
    "import time\n",
    "import requests\n",
    "from constants import *\n",
    "\n",
    "\n",
    "\n",
    "\n"
   ]
  },
  {
   "cell_type": "code",
   "execution_count": 56,
   "metadata": {},
   "outputs": [],
   "source": [
    "url = \"https://www.reddit.com/api/v1/me\"\n",
    "# Set your user agent in the headers\n",
    "headers = {\n",
    "    'User-Agent': 'YOUR_REDDIT_APP_NAME/1.0 by YOUY_REDDIT_USERNAME'}\n",
    "# Make a request to the Reddit API\n",
    "response = requests.get(url, headers=headers)"
   ]
  },
  {
   "cell_type": "code",
   "execution_count": 32,
   "metadata": {},
   "outputs": [],
   "source": []
  },
  {
   "cell_type": "code",
   "execution_count": null,
   "metadata": {},
   "outputs": [],
   "source": []
  },
  {
   "cell_type": "code",
   "execution_count": 2,
   "metadata": {},
   "outputs": [],
   "source": [
    "  # Import the time module for sleep\n",
    "def reddit_bot(sub, trigger_phrase, comment_limit=10):\n",
    "    reddit = praw.Reddit(\n",
    "        client_id=os.environ['client_id'],\n",
    "        client_secret=os.environ['client_secret'],\n",
    "        username=os.environ['username'],\n",
    "        password=os.environ['passwordred'],\n",
    "        user_agent=os.environ['user_agent']\n",
    "    )\n",
    "\n",
    "    subreddit = reddit.subreddit(sub)\n",
    "\n",
    "    for comment in subreddit.comments(limit=comment_limit):\n",
    "        if trigger_phrase in comment.body.lower():\n",
    "            prompt = comment.body.strip()\n",
    "            print(f\"Processing comment: {comment.id}, body: {comment.body}\")\n",
    "            print(f\"Trigger phrase found. Prompt: {prompt}\")\n",
    "\n",
    "            # Call Llama 2 API\n",
    "            similar_words = call_llama(prompt= prompt, model='llama2', stream=False)\n",
    "\n",
    "            if similar_words:\n",
    "                reply_text = ' '.join(similar_words)\n",
    "                print(f\"Reply text: {reply_text}\")\n",
    "                comment.reply(reply_text)\n",
    "                time.sleep(2)  # Add a delay between comments to avoid rate limiting\n",
    "            else:\n",
    "                print(\"Llama 2 API did not provide suggestions for the given prompt.\")\n",
    "\n",
    "# Example usage\n",
    "# Example usage\n"
   ]
  },
  {
   "cell_type": "code",
   "execution_count": 3,
   "metadata": {},
   "outputs": [
    {
     "ename": "NameError",
     "evalue": "name 'praw' is not defined",
     "output_type": "error",
     "traceback": [
      "\u001b[0;31m---------------------------------------------------------------------------\u001b[0m",
      "\u001b[0;31mNameError\u001b[0m                                 Traceback (most recent call last)",
      "Cell \u001b[0;32mIn[3], line 1\u001b[0m\n\u001b[0;32m----> 1\u001b[0m \u001b[43mreddit_bot\u001b[49m\u001b[43m(\u001b[49m\u001b[43msub\u001b[49m\u001b[38;5;241;43m=\u001b[39;49m\u001b[38;5;124;43m'\u001b[39;49m\u001b[38;5;124;43mPython\u001b[39;49m\u001b[38;5;124;43m'\u001b[39;49m\u001b[43m,\u001b[49m\u001b[43m \u001b[49m\u001b[43mtrigger_phrase\u001b[49m\u001b[38;5;241;43m=\u001b[39;49m\u001b[38;5;124;43m'\u001b[39;49m\u001b[38;5;124;43msql\u001b[39;49m\u001b[38;5;124;43m'\u001b[39;49m\u001b[43m,\u001b[49m\u001b[43m \u001b[49m\u001b[43mcomment_limit\u001b[49m\u001b[38;5;241;43m=\u001b[39;49m\u001b[38;5;241;43m2\u001b[39;49m\u001b[43m)\u001b[49m\n",
      "Cell \u001b[0;32mIn[2], line 3\u001b[0m, in \u001b[0;36mreddit_bot\u001b[0;34m(sub, trigger_phrase, comment_limit)\u001b[0m\n\u001b[1;32m      2\u001b[0m \u001b[38;5;28;01mdef\u001b[39;00m \u001b[38;5;21mreddit_bot\u001b[39m(sub, trigger_phrase, comment_limit\u001b[38;5;241m=\u001b[39m\u001b[38;5;241m10\u001b[39m):\n\u001b[0;32m----> 3\u001b[0m   reddit \u001b[38;5;241m=\u001b[39m \u001b[43mpraw\u001b[49m\u001b[38;5;241m.\u001b[39mReddit(\n\u001b[1;32m      4\u001b[0m       client_id\u001b[38;5;241m=\u001b[39mos\u001b[38;5;241m.\u001b[39menviron[\u001b[38;5;124m'\u001b[39m\u001b[38;5;124mclient_id\u001b[39m\u001b[38;5;124m'\u001b[39m],\n\u001b[1;32m      5\u001b[0m       client_secret\u001b[38;5;241m=\u001b[39mos\u001b[38;5;241m.\u001b[39menviron[\u001b[38;5;124m'\u001b[39m\u001b[38;5;124mclient_secret\u001b[39m\u001b[38;5;124m'\u001b[39m],\n\u001b[1;32m      6\u001b[0m       username\u001b[38;5;241m=\u001b[39mos\u001b[38;5;241m.\u001b[39menviron[\u001b[38;5;124m'\u001b[39m\u001b[38;5;124musername\u001b[39m\u001b[38;5;124m'\u001b[39m],\n\u001b[1;32m      7\u001b[0m       password\u001b[38;5;241m=\u001b[39mos\u001b[38;5;241m.\u001b[39menviron[\u001b[38;5;124m'\u001b[39m\u001b[38;5;124mpasswordred\u001b[39m\u001b[38;5;124m'\u001b[39m],\n\u001b[1;32m      8\u001b[0m       user_agent\u001b[38;5;241m=\u001b[39mos\u001b[38;5;241m.\u001b[39menviron[\u001b[38;5;124m'\u001b[39m\u001b[38;5;124muser_agent\u001b[39m\u001b[38;5;124m'\u001b[39m]\n\u001b[1;32m      9\u001b[0m   )\n\u001b[1;32m     11\u001b[0m   subreddit \u001b[38;5;241m=\u001b[39m reddit\u001b[38;5;241m.\u001b[39msubreddit(sub)\n\u001b[1;32m     13\u001b[0m   \u001b[38;5;28;01mfor\u001b[39;00m comment \u001b[38;5;129;01min\u001b[39;00m subreddit\u001b[38;5;241m.\u001b[39mcomments(limit\u001b[38;5;241m=\u001b[39mcomment_limit):\n",
      "\u001b[0;31mNameError\u001b[0m: name 'praw' is not defined"
     ]
    }
   ],
   "source": [
    "reddit_bot(sub='Python', trigger_phrase='sql', comment_limit=2)"
   ]
  },
  {
   "cell_type": "code",
   "execution_count": null,
   "metadata": {},
   "outputs": [],
   "source": []
  }
 ],
 "metadata": {
  "kernelspec": {
   "display_name": "ali-ml",
   "language": "python",
   "name": "python3"
  },
  "language_info": {
   "codemirror_mode": {
    "name": "ipython",
    "version": 3
   },
   "file_extension": ".py",
   "mimetype": "text/x-python",
   "name": "python",
   "nbconvert_exporter": "python",
   "pygments_lexer": "ipython3",
   "version": "3.10.13"
  }
 },
 "nbformat": 4,
 "nbformat_minor": 2
}
