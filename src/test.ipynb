{
 "cells": [
  {
   "cell_type": "code",
   "execution_count": 55,
   "metadata": {},
   "outputs": [],
   "source": [
    "import praw\n",
    "import os\n",
    "from utils import call_llama\n",
    "import time\n",
    "import requests\n",
    "from constants import *"
   ]
  },
  {
   "cell_type": "code",
   "execution_count": 56,
   "metadata": {},
   "outputs": [],
   "source": [
    "url = \"https://www.reddit.com/api/v1/me\"\n",
    "# Set your user agent in the headers\n",
    "headers = {\n",
    "    'User-Agent': 'YOUR_REDDIT_APP_NAME/1.0 by YOUY_REDDIT_USERNAME'}\n",
    "# Make a request to the Reddit API\n",
    "response = requests.get(url, headers=headers)"
   ]
  },
  {
   "cell_type": "code",
   "execution_count": 2,
   "metadata": {},
   "outputs": [],
   "source": [
    "  # Import the time module for sleep\n",
    "def reddit_bot(sub, trigger_phrase, comment_limit=10):\n",
    "    reddit = praw.Reddit(\n",
    "        client_id=os.environ['client_id'],\n",
    "        client_secret=os.environ['client_secret'],\n",
    "        username=os.environ['username'],\n",
    "        password=os.environ['passwordred'],\n",
    "        user_agent=os.environ['user_agent']\n",
    "    )\n",
    "\n",
    "    subreddit = reddit.subreddit(sub)\n",
    "\n",
    "    for comment in subreddit.comments(limit=comment_limit):\n",
    "        if trigger_phrase in comment.body.lower():\n",
    "            prompt = comment.body.strip()\n",
    "            print(f\"Processing comment: {comment.id}, body: {comment.body}\")\n",
    "            print(f\"Trigger phrase found. Prompt: {prompt}\")\n",
    "\n",
    "            # Call Llama 2 API\n",
    "            similar_words = call_llama(prompt= prompt, model='llama2', stream=False)\n",
    "\n",
    "            if similar_words:\n",
    "                reply_text = ' '.join(similar_words)\n",
    "                print(f\"Reply text: {reply_text}\")\n",
    "                comment.reply(reply_text)\n",
    "                time.sleep(2)  # Add a delay between comments to avoid rate limiting\n",
    "            else:\n",
    "                print(\"Llama 2 API did not provide suggestions for the given prompt.\")\n",
    "\n",
    "# Example usage\n",
    "# Example usage\n"
   ]
  },
  {
   "cell_type": "code",
   "execution_count": 1,
   "metadata": {},
   "outputs": [],
   "source": [
    "reddit_bot(sub='Python', trigger_phrase='sql', comment_limit=2)"
   ]
  },
  {
   "cell_type": "code",
   "execution_count": null,
   "metadata": {},
   "outputs": [],
   "source": []
  }
 ],
 "metadata": {
  "kernelspec": {
   "display_name": "ali-ml",
   "language": "python",
   "name": "python3"
  },
  "language_info": {
   "codemirror_mode": {
    "name": "ipython",
    "version": 3
   },
   "file_extension": ".py",
   "mimetype": "text/x-python",
   "name": "python",
   "nbconvert_exporter": "python",
   "pygments_lexer": "ipython3",
   "version": "3.10.13"
  }
 },
 "nbformat": 4,
 "nbformat_minor": 2
}
